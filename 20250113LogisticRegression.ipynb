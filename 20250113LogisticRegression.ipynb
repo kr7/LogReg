{
  "nbformat": 4,
  "nbformat_minor": 0,
  "metadata": {
    "colab": {
      "provenance": [],
      "authorship_tag": "ABX9TyObE9KEjsLyt7KL7LaDGrJZ",
      "include_colab_link": true
    },
    "kernelspec": {
      "name": "python3",
      "display_name": "Python 3"
    },
    "language_info": {
      "name": "python"
    }
  },
  "cells": [
    {
      "cell_type": "markdown",
      "metadata": {
        "id": "view-in-github",
        "colab_type": "text"
      },
      "source": [
        "<a href=\"https://colab.research.google.com/github/kr7/LogReg/blob/main/20250113LogisticRegression.ipynb\" target=\"_parent\"><img src=\"https://colab.research.google.com/assets/colab-badge.svg\" alt=\"Open In Colab\"/></a>"
      ]
    },
    {
      "cell_type": "markdown",
      "source": [
        "\n",
        "**Importieren der nötigen Bibliotheken**\n",
        "\n"
      ],
      "metadata": {
        "id": "40j3Hu4-9A5v"
      }
    },
    {
      "cell_type": "code",
      "execution_count": null,
      "metadata": {
        "id": "ug-nDsjF-aMr"
      },
      "outputs": [],
      "source": [
        "import matplotlib.pyplot as plt\n",
        "import numpy as np\n",
        "import pandas as pd\n",
        "import seaborn as sns\n",
        "\n",
        "from google.colab import widgets\n",
        "from sklearn.linear_model import LogisticRegression"
      ]
    },
    {
      "cell_type": "markdown",
      "source": [
        "**Vorbeireitung der Daten**\n",
        "\n",
        "Wir laden die Daten:\n"
      ],
      "metadata": {
        "id": "XzBU1crL9Ku6"
      }
    },
    {
      "cell_type": "code",
      "source": [
        "data_with_labels = np.loadtxt('https://archive.ics.uci.edu/ml/machine-learning-databases/spambase/spambase.data', delimiter=',')"
      ],
      "metadata": {
        "id": "sL8ziDQ-_mWc"
      },
      "execution_count": null,
      "outputs": []
    },
    {
      "cell_type": "markdown",
      "source": [
        "Wir laden auch die Namen der Spalten (damit wir wissen was für Information in den einzelnen Spaten gespeichert ist):"
      ],
      "metadata": {
        "id": "ym7F2aNO9iwz"
      }
    },
    {
      "cell_type": "code",
      "source": [
        "!wget https://archive.ics.uci.edu/ml/machine-learning-databases/spambase/spambase.names"
      ],
      "metadata": {
        "id": "T8ZrumDt9gvT"
      },
      "execution_count": null,
      "outputs": []
    },
    {
      "cell_type": "code",
      "source": [
        "column_names = []\n",
        "with open(\"spambase.names\") as f:\n",
        "  for i in range(33):\n",
        "    f.readline()\n",
        "\n",
        "  for i in range(57):\n",
        "    line = f.readline()\n",
        "    column_names.append(line.split(\":\")[0])"
      ],
      "metadata": {
        "id": "Fzo_OuzY9kd3"
      },
      "execution_count": null,
      "outputs": []
    },
    {
      "cell_type": "markdown",
      "source": [
        "Wir teilen die Daten in Trainings- und Testdaten auf:"
      ],
      "metadata": {
        "id": "vUPcOZhl-oOe"
      }
    },
    {
      "cell_type": "code",
      "source": [
        "data = data_with_labels[:,:-1]\n",
        "labels = data_with_labels[:,-1]\n",
        "\n",
        "test_indices = np.array(range(int(len(data)/5)))*5+4\n",
        "train_indices = [i for i in range(len(data)) if i not in test_indices]\n",
        "\n",
        "data_train0  = data[train_indices]\n",
        "data_test0   = data[test_indices]\n",
        "labels_train = labels[train_indices]\n",
        "labels_test  = labels[test_indices]"
      ],
      "metadata": {
        "id": "2EitOHJt_wg0"
      },
      "execution_count": null,
      "outputs": []
    },
    {
      "cell_type": "markdown",
      "source": [
        "Normalisierung der Daten:"
      ],
      "metadata": {
        "id": "7daHkKfL_GvA"
      }
    },
    {
      "cell_type": "code",
      "source": [
        "avg = np.mean(data_train0, axis=0)\n",
        "std = np.std(data_train0, axis=0)\n",
        "data_train0 = (data_train0 - avg) / std\n",
        "data_test0 = (data_test0 - avg) / std"
      ],
      "metadata": {
        "id": "Qa8401nuJS2c"
      },
      "execution_count": null,
      "outputs": []
    },
    {
      "cell_type": "markdown",
      "source": [
        "Wir fügen die Spalte mit konstanden Einsen hinzu:"
      ],
      "metadata": {
        "id": "DV8YAGDH_L_U"
      }
    },
    {
      "cell_type": "code",
      "source": [
        "data_train = np.ones( (np.shape(data_train0)[0], np.shape(data_train0)[1]+1) )\n",
        "data_test  = np.ones( (np.shape(data_test0)[0], np.shape(data_test0)[1]+1) )\n",
        "data_train[:,1:] = data_train0\n",
        "data_test[:,1:] = data_test0"
      ],
      "metadata": {
        "id": "AtaNpUJBKAVz"
      },
      "execution_count": null,
      "outputs": []
    },
    {
      "cell_type": "markdown",
      "source": [
        "**Logistische Regression (eigene Implemetierung)**"
      ],
      "metadata": {
        "id": "EWNP-sGl_UTt"
      }
    },
    {
      "cell_type": "code",
      "source": [
        "num_features = np.shape(data_train)[1]"
      ],
      "metadata": {
        "id": "eK1zesw1_0Rb"
      },
      "execution_count": null,
      "outputs": []
    },
    {
      "cell_type": "markdown",
      "source": [
        "Ein Vektor für die Modellparameter:"
      ],
      "metadata": {
        "id": "bng1zEMn_jDh"
      }
    },
    {
      "cell_type": "code",
      "source": [
        "w = np.zeros(num_features)"
      ],
      "metadata": {
        "id": "1L_16hIzABHz"
      },
      "execution_count": null,
      "outputs": []
    },
    {
      "cell_type": "markdown",
      "source": [
        "Die Hypothesefunktion: basierend auf die Modellparameter $w$ berechnet diese Funktion die Schätzung der Wahrscheinlichkeit der positiven Klasse im Falle eines Instanzen $x$."
      ],
      "metadata": {
        "id": "za4-Mv8y_m-p"
      }
    },
    {
      "cell_type": "code",
      "source": [
        "def pred(w, x):\n",
        "  return 1/(1+np.exp(-np.dot(w,x)))"
      ],
      "metadata": {
        "id": "fNuwvEy7BPb5"
      },
      "execution_count": null,
      "outputs": []
    },
    {
      "cell_type": "markdown",
      "source": [
        "Trainingszyklus: Optimierung der Modellparameter mit stochastischem Gradientenabstieg."
      ],
      "metadata": {
        "id": "gUFv_GlP_-Sh"
      }
    },
    {
      "cell_type": "code",
      "source": [
        "num_epochs = 1000\n",
        "lr = 1e-3\n",
        "\n",
        "all_w = []\n",
        "# Wir speichern die Modellparameter, damit wir später anzeigen können,\n",
        "# wie sich die Modellparameter während des Trainings ändern\n",
        "\n",
        "for i in range(num_epochs):\n",
        "    for j in range(len(data_train)):\n",
        "      y_pred = pred(w, data_train[j])\n",
        "      w = w - lr*(y_pred-labels_train[j])*data_train[j]\n",
        "\n",
        "    all_w.append(w)"
      ],
      "metadata": {
        "id": "e-bweItUBBAb"
      },
      "execution_count": null,
      "outputs": []
    },
    {
      "cell_type": "markdown",
      "source": [
        "Die Schätzungen (Prediktionen) für die Testdaten:"
      ],
      "metadata": {
        "id": "b8TgrGBiAkf4"
      }
    },
    {
      "cell_type": "code",
      "source": [
        "predictions = []\n",
        "for j in range(len(data_test)):\n",
        "  y_pred = np.round(pred(w, data_test[j]))\n",
        "  predictions.append(y_pred)"
      ],
      "metadata": {
        "id": "LRqFVYi-DElg"
      },
      "execution_count": null,
      "outputs": []
    },
    {
      "cell_type": "markdown",
      "source": [
        "Wir berechnen, wie genau die Prediktionen sind. Der Anteil der korrekten Prediktionen ist:"
      ],
      "metadata": {
        "id": "gMMzkly6Bc9o"
      }
    },
    {
      "cell_type": "code",
      "source": [
        "np.mean(predictions==labels_test)"
      ],
      "metadata": {
        "id": "SNlJfXwoDcSl"
      },
      "execution_count": null,
      "outputs": []
    },
    {
      "cell_type": "markdown",
      "source": [
        "Wir sehen an, wie sich die Gewichte (Modellparameter) während des Trainings ändern:"
      ],
      "metadata": {
        "id": "Daenf06jPYmX"
      }
    },
    {
      "cell_type": "code",
      "source": [
        "all_w = np.array(all_w)\n",
        "\n",
        "plt.plot( all_w[:,0], label = \"w0\" )\n",
        "plt.plot( all_w[:,1], label = \"w1\" )\n",
        "plt.plot( all_w[:,2], label = \"w2\" )\n",
        "\n",
        "plt.show()"
      ],
      "metadata": {
        "id": "7AFCo7kZCEjk"
      },
      "execution_count": null,
      "outputs": []
    },
    {
      "cell_type": "code",
      "source": [
        "plt.plot( all_w[:100,5], label = \"w5\" )\n",
        "plt.plot( all_w[:100,7], label = \"w7\" )\n",
        "plt.plot( all_w[:100,10], label = \"w10\" )\n",
        "\n",
        "plt.show()"
      ],
      "metadata": {
        "id": "dqtqc0Q_DbH0"
      },
      "execution_count": null,
      "outputs": []
    },
    {
      "cell_type": "markdown",
      "source": [
        "Darstellung der Gewichte der am Ende des Trainings:"
      ],
      "metadata": {
        "id": "sV3WVqc9PWX3"
      }
    },
    {
      "cell_type": "code",
      "source": [
        "sns.set_theme(style=\"whitegrid\")\n",
        "\n",
        "f, ax = plt.subplots(figsize=(5, 20))\n",
        "\n",
        "column_weights = pd.DataFrame.from_dict({'column': column_names, 'w': w[1:] })\n",
        "sns.barplot(x=\"w\", y=\"column\", data=column_weights, color=\"b\", orient='h')\n",
        "ax.set(ylabel=\"Column\", xlabel=\"weight\")\n",
        "ax.grid(False)"
      ],
      "metadata": {
        "id": "wFjESNZhHKHd"
      },
      "execution_count": null,
      "outputs": []
    },
    {
      "cell_type": "markdown",
      "source": [
        "**Logistische Regression in der Bibliothek \"scikit-learn\"**"
      ],
      "metadata": {
        "id": "L-R6UuuiPnPY"
      }
    },
    {
      "cell_type": "code",
      "source": [
        "model = LogisticRegression()\n",
        "model.fit(data_train, labels_train)\n",
        "\n",
        "pred = model.predict(data_test)\n",
        "\n",
        "np.sum(pred == labels_test)/len(labels_test)"
      ],
      "metadata": {
        "id": "DqD1xvn_Fosj"
      },
      "execution_count": null,
      "outputs": []
    },
    {
      "cell_type": "markdown",
      "source": [
        "**Mehrere Klassen**\n",
        "\n",
        "(Erkennung handgeschriebenen Ziffern)"
      ],
      "metadata": {
        "id": "EyF59yi4P1cY"
      }
    },
    {
      "cell_type": "code",
      "source": [
        "data = np.loadtxt('https://archive.ics.uci.edu/ml/machine-learning-databases/semeion/semeion.data')"
      ],
      "metadata": {
        "id": "EdnwoR16nqj-"
      },
      "execution_count": null,
      "outputs": []
    },
    {
      "cell_type": "code",
      "source": [
        "image_size=(16,16)\n",
        "\n",
        "tb = widgets.TabBar([str(i) for i in range(10)], location='start')\n",
        "for i in range(10):\n",
        "  with tb.output_to(i):\n",
        "    an_image = np.reshape(data[i*20,0:256], image_size )\n",
        "    plt.imshow(an_image)\n",
        "    plt.show()"
      ],
      "metadata": {
        "id": "7TGsBc2en3J_"
      },
      "execution_count": null,
      "outputs": []
    },
    {
      "cell_type": "code",
      "source": [
        "# Vorbereitung der Daten\n",
        "\n",
        "data_train = data[:1093,0:256]\n",
        "labels_train = data[:1093,256:266]\n",
        "data_test = data[1093:,0:256]\n",
        "labels_test = data[1093:,256:266]\n",
        "\n",
        "def ordinary_labels(raw_labels):\n",
        "  o_lab = []\n",
        "  for i in range(len(raw_labels)):\n",
        "    o_lab.append( np.argmax(raw_labels[i,:]) )\n",
        "  return np.array(o_lab)\n",
        "\n",
        "labels_train = ordinary_labels(labels_train)\n",
        "labels_test  = ordinary_labels(labels_test)"
      ],
      "metadata": {
        "id": "1CC6YvxgoOmG"
      },
      "execution_count": null,
      "outputs": []
    },
    {
      "cell_type": "code",
      "source": [
        "# Wenn wir die logistische Regression aus scikit-learn benutzen,\n",
        "# brauchen wir uns keine Sorgen wegen der Anzahl der Klassen zu machen\n",
        "\n",
        "model = LogisticRegression()\n",
        "model.fit(data_train, labels_train)\n",
        "\n",
        "pred = model.predict(data_test)\n",
        "\n",
        "np.sum(pred == labels_test)/len(labels_test)"
      ],
      "metadata": {
        "id": "Sn-2ljLSqA51"
      },
      "execution_count": null,
      "outputs": []
    }
  ]
}